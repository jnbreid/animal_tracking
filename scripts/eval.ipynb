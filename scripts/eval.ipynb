{
 "cells": [
  {
   "cell_type": "code",
   "execution_count": 1,
   "metadata": {},
   "outputs": [
    {
     "name": "stdout",
     "output_type": "stream",
     "text": [
      "/home/vboxuser/Desktop/GitRepos/animal_tracking\n"
     ]
    }
   ],
   "source": [
    "%cd .."
   ]
  },
  {
   "cell_type": "code",
   "execution_count": 2,
   "metadata": {},
   "outputs": [
    {
     "name": "stdout",
     "output_type": "stream",
     "text": [
      "Imports ready\n"
     ]
    }
   ],
   "source": [
    "import torch\n",
    "\n",
    "from src.eval.dataset import Wildbrueck\n",
    "from src.eval.utils import gen_prediction_files\n",
    "\n",
    "print(f\"Imports ready\")"
   ]
  },
  {
   "cell_type": "code",
   "execution_count": null,
   "metadata": {},
   "outputs": [],
   "source": [
    "DEVICE = torch.device('cuda:0' if torch.cuda.is_available() else 'cpu')\n",
    "print(DEVICE)"
   ]
  },
  {
   "cell_type": "code",
   "execution_count": null,
   "metadata": {},
   "outputs": [],
   "source": [
    "\"\"\"\n",
    "a dataset needs to implement __len__ and __getitem__.\n",
    "__getitem__ needs to return: img_paths, full_boxes, full_masks\n",
    "\"\"\"\n",
    "eval_dataset = Wildbrueck(\"/dataset/wildlife\", train=False)"
   ]
  },
  {
   "cell_type": "markdown",
   "metadata": {},
   "source": [
    "First generate prediction files for a given dataset:"
   ]
  },
  {
   "cell_type": "code",
   "execution_count": null,
   "metadata": {},
   "outputs": [],
   "source": [
    "gen_prediction_files(eval_dataset, \n",
    "                     save_dir = 'out_dir', \n",
    "                     distnet_weights = 'weights/distnet_t.pth',\n",
    "                     device = None,\n",
    "                     dist_mode = 'default')"
   ]
  },
  {
   "cell_type": "markdown",
   "metadata": {},
   "source": [
    "Then evaluate the results by comparing the prediction files to ground truth annotation files.\n",
    "\n",
    "First start with mot metrics:"
   ]
  },
  {
   "cell_type": "code",
   "execution_count": 2,
   "metadata": {},
   "outputs": [
    {
     "ename": "ModuleNotFoundError",
     "evalue": "No module named 'motmetrics'",
     "output_type": "error",
     "traceback": [
      "\u001b[0;31m---------------------------------------------------------------------------\u001b[0m",
      "\u001b[0;31mModuleNotFoundError\u001b[0m                       Traceback (most recent call last)",
      "Cell \u001b[0;32mIn[2], line 1\u001b[0m\n\u001b[0;32m----> 1\u001b[0m \u001b[38;5;28;01mfrom\u001b[39;00m \u001b[38;5;21;01msrc\u001b[39;00m\u001b[38;5;21;01m.\u001b[39;00m\u001b[38;5;21;01meval\u001b[39;00m\u001b[38;5;21;01m.\u001b[39;00m\u001b[38;5;21;01mmot_metrics\u001b[39;00m \u001b[38;5;28;01mimport\u001b[39;00m eval_set\n",
      "File \u001b[0;32m~/Desktop/GitRepos/animal_tracking/src/eval/mot_metrics.py:1\u001b[0m\n\u001b[0;32m----> 1\u001b[0m \u001b[38;5;28;01mimport\u001b[39;00m \u001b[38;5;21;01mmotmetrics\u001b[39;00m \u001b[38;5;28;01mas\u001b[39;00m \u001b[38;5;21;01mmm\u001b[39;00m \n\u001b[1;32m      2\u001b[0m \u001b[38;5;66;03m# mot metrics can be installed with 'pip install motmetrics'\u001b[39;00m\n\u001b[1;32m      3\u001b[0m \u001b[38;5;28;01mimport\u001b[39;00m \u001b[38;5;21;01mnumpy\u001b[39;00m \u001b[38;5;28;01mas\u001b[39;00m \u001b[38;5;21;01mnp\u001b[39;00m\n",
      "\u001b[0;31mModuleNotFoundError\u001b[0m: No module named 'motmetrics'"
     ]
    }
   ],
   "source": [
    "from src.eval.mot_metrics import eval_set"
   ]
  },
  {
   "cell_type": "code",
   "execution_count": null,
   "metadata": {},
   "outputs": [],
   "source": [
    "\"\"\"\n",
    "org_anns_path must be the path to the directory containing the original annotation files in mot16 format.\n",
    "The annotation file names must be identical to the prediction file names\n",
    "\"\"\"\n",
    "org_anns_path = \"dataset/annotations/mot16\"\n",
    "prediction_path = \"out_dir/mot16\"\n",
    "\n",
    "eval_set(org_anns_path, prediction_path)"
   ]
  },
  {
   "cell_type": "markdown",
   "metadata": {},
   "source": [
    "Then evaluate with mots metrics:"
   ]
  },
  {
   "cell_type": "code",
   "execution_count": 4,
   "metadata": {},
   "outputs": [
    {
     "ename": "ModuleNotFoundError",
     "evalue": "No module named 'mots_eval'",
     "output_type": "error",
     "traceback": [
      "\u001b[0;31m---------------------------------------------------------------------------\u001b[0m",
      "\u001b[0;31mModuleNotFoundError\u001b[0m                       Traceback (most recent call last)",
      "Cell \u001b[0;32mIn[4], line 1\u001b[0m\n\u001b[0;32m----> 1\u001b[0m \u001b[38;5;28;01mfrom\u001b[39;00m \u001b[38;5;21;01msrc\u001b[39;00m\u001b[38;5;21;01m.\u001b[39;00m\u001b[38;5;21;01meval\u001b[39;00m\u001b[38;5;21;01m.\u001b[39;00m\u001b[38;5;21;01mmots_metrics\u001b[39;00m \u001b[38;5;28;01mimport\u001b[39;00m run_eval\n",
      "File \u001b[0;32m~/Desktop/GitRepos/animal_tracking/src/eval/mots_metrics.py:157\u001b[0m\n\u001b[1;32m    155\u001b[0m \u001b[38;5;28;01mimport\u001b[39;00m \u001b[38;5;21;01msys\u001b[39;00m\n\u001b[1;32m    156\u001b[0m \u001b[38;5;66;03m#from mots_common.io import load_seqmap, load_sequences\u001b[39;00m\n\u001b[0;32m--> 157\u001b[0m \u001b[38;5;28;01mfrom\u001b[39;00m \u001b[38;5;21;01mmots_eval\u001b[39;00m\u001b[38;5;21;01m.\u001b[39;00m\u001b[38;5;21;01mMOTS_metrics\u001b[39;00m \u001b[38;5;28;01mimport\u001b[39;00m compute_MOTS_metrics\n\u001b[1;32m    160\u001b[0m IGNORE_CLASS \u001b[38;5;241m=\u001b[39m \u001b[38;5;241m10\u001b[39m\n\u001b[1;32m    163\u001b[0m \u001b[38;5;28;01mdef\u001b[39;00m \u001b[38;5;21mmask_iou\u001b[39m(a, b, criterion\u001b[38;5;241m=\u001b[39m\u001b[38;5;124m\"\u001b[39m\u001b[38;5;124munion\u001b[39m\u001b[38;5;124m\"\u001b[39m):\n",
      "\u001b[0;31mModuleNotFoundError\u001b[0m: No module named 'mots_eval'"
     ]
    }
   ],
   "source": [
    "from src.eval.mots_metrics import run_eval"
   ]
  },
  {
   "cell_type": "code",
   "execution_count": 5,
   "metadata": {},
   "outputs": [
    {
     "name": "stdout",
     "output_type": "stream",
     "text": [
      "Cloning into 'mots_tools'...\n",
      "remote: Enumerating objects: 54, done.\u001b[K\n",
      "remote: Counting objects: 100% (17/17), done.\u001b[K\n",
      "remote: Compressing objects: 100% (13/13), done.\u001b[K\n",
      "remote: Total 54 (delta 5), reused 10 (delta 3), pack-reused 37 (from 1)\u001b[K\n",
      "Receiving objects: 100% (54/54), 25.87 KiB | 1.17 MiB/s, done.\n",
      "Resolving deltas: 100% (20/20), done.\n",
      "/home/vboxuser/Desktop/GitRepos/animal_tracking/mots_tools\n"
     ]
    }
   ],
   "source": [
    "!git clone https://github.com/VisualComputingInstitute/mots_tools.git\n",
    "!cp -r mots_tools/mots_eval"
   ]
  },
  {
   "cell_type": "code",
   "execution_count": null,
   "metadata": {},
   "outputs": [],
   "source": []
  }
 ],
 "metadata": {
  "colab": {
   "provenance": []
  },
  "kernelspec": {
   "display_name": "Python 3 (ipykernel)",
   "language": "python",
   "name": "python3"
  },
  "language_info": {
   "codemirror_mode": {
    "name": "ipython",
    "version": 3
   },
   "file_extension": ".py",
   "mimetype": "text/x-python",
   "name": "python",
   "nbconvert_exporter": "python",
   "pygments_lexer": "ipython3",
   "version": "3.12.7"
  }
 },
 "nbformat": 4,
 "nbformat_minor": 4
}
