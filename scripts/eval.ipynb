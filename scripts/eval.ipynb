{
 "cells": [
  {
   "cell_type": "code",
   "execution_count": null,
   "metadata": {},
   "outputs": [],
   "source": [
    "%cd .."
   ]
  },
  {
   "cell_type": "code",
   "execution_count": null,
   "metadata": {},
   "outputs": [],
   "source": [
    "import torch\n",
    "\n",
    "from src.eval.dataset import Wildbrueck\n",
    "from src.eval.utils import gen_prediction_files\n",
    "\n",
    "print(f\"Imports ready\")"
   ]
  },
  {
   "cell_type": "code",
   "execution_count": null,
   "metadata": {},
   "outputs": [],
   "source": [
    "DEVICE = torch.device('cuda:0' if torch.cuda.is_available() else 'cpu')\n",
    "print(DEVICE)"
   ]
  },
  {
   "cell_type": "code",
   "execution_count": null,
   "metadata": {},
   "outputs": [],
   "source": [
    "\"\"\"\n",
    "a dataset needs to implement __len__ and __getitem__.\n",
    "__getitem__ needs to return: img_paths, full_boxes, full_masks\n",
    "\"\"\"\n",
    "eval_dataset = Wildbrueck(\"/dataset/wildlife\", train=False)"
   ]
  },
  {
   "cell_type": "markdown",
   "metadata": {},
   "source": [
    "First generate prediction files for a given dataset:"
   ]
  },
  {
   "cell_type": "code",
   "execution_count": null,
   "metadata": {},
   "outputs": [],
   "source": [
    "gen_prediction_files(eval_dataset, \n",
    "                     save_dir = 'out_dir', \n",
    "                     distnet_weights = 'weights/distnet_t.pth',\n",
    "                     device = None,\n",
    "                     dist_mode = 'default')"
   ]
  },
  {
   "cell_type": "markdown",
   "metadata": {},
   "source": [
    "Then evaluate the results by comparing the prediction files to ground truth annotation files.\n",
    "\n",
    "First start with mot metrics:"
   ]
  },
  {
   "cell_type": "code",
   "execution_count": null,
   "metadata": {},
   "outputs": [],
   "source": [
    "from src.eval.mot_metrics import eval_set"
   ]
  },
  {
   "cell_type": "code",
   "execution_count": null,
   "metadata": {},
   "outputs": [],
   "source": [
    "\"\"\"\n",
    "org_anns_path must be the path to the directory containing the original annotation files in mot16 format.\n",
    "The annotation file names must be identical to the prediction file names\n",
    "\"\"\"\n",
    "org_anns_path = \"dataset/annotations/mot16\"\n",
    "prediction_path = \"out_dir/mot16\"\n",
    "\n",
    "eval_set(org_anns_path, prediction_path)"
   ]
  },
  {
   "cell_type": "markdown",
   "metadata": {},
   "source": [
    "Then evaluate with mots metrics:"
   ]
  },
  {
   "cell_type": "code",
   "execution_count": null,
   "metadata": {},
   "outputs": [],
   "source": [
    "!git clone https://github.com/VisualComputingInstitute/mots_tools.git\n",
    "!cp -r mots_tools/mots_eval .\n",
    "!cp -r mots_tools/mots_common ."
   ]
  },
  {
   "cell_type": "code",
   "execution_count": 5,
   "metadata": {},
   "outputs": [],
   "source": [
    "from src.eval.mots_metrics import run_eval"
   ]
  },
  {
   "cell_type": "code",
   "execution_count": null,
   "metadata": {},
   "outputs": [],
   "source": [
    "prediction_mots = \"out_dir/mots\"\n",
    "org_anns_mots = \"dataset/annotations/mots\"\n",
    "seqmap_file = \"src/eval/seqmap.txt\"\n",
    "\n",
    "run_eval(prediction_mots, org_anns_mots, seqmap_file)"
   ]
  }
 ],
 "metadata": {
  "colab": {
   "provenance": []
  },
  "kernelspec": {
   "display_name": "Python 3 (ipykernel)",
   "language": "python",
   "name": "python3"
  },
  "language_info": {
   "codemirror_mode": {
    "name": "ipython",
    "version": 3
   },
   "file_extension": ".py",
   "mimetype": "text/x-python",
   "name": "python",
   "nbconvert_exporter": "python",
   "pygments_lexer": "ipython3",
   "version": "3.12.7"
  }
 },
 "nbformat": 4,
 "nbformat_minor": 4
}
