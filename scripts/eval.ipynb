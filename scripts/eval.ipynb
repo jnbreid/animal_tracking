{
 "cells": [
  {
   "cell_type": "code",
   "execution_count": 1,
   "metadata": {},
   "outputs": [
    {
     "name": "stdout",
     "output_type": "stream",
     "text": [
      "/home/vboxuser/Desktop/GitRepos/animal_tracking\n"
     ]
    }
   ],
   "source": [
    "%cd .."
   ]
  },
  {
   "cell_type": "code",
   "execution_count": 2,
   "metadata": {},
   "outputs": [
    {
     "name": "stdout",
     "output_type": "stream",
     "text": [
      "-\tdemo_data\t      .ipynb_checkpoints  README.md\t    weights\n",
      ".\tdemo_inference.ipynb  LICENSE\t\t  requirements.txt\n",
      "..\t.git\t\t      licenses.md\t  scripts\n",
      "assets\t.gitignore\t      out_dir\t\t  src\n"
     ]
    }
   ],
   "source": [
    "!ls -a"
   ]
  },
  {
   "cell_type": "code",
   "execution_count": 3,
   "metadata": {},
   "outputs": [
    {
     "name": "stdout",
     "output_type": "stream",
     "text": [
      "Imports ready\n"
     ]
    }
   ],
   "source": [
    "import torch\n",
    "\n",
    "from src.eval.dataset import Wildbrueck\n",
    "from src.eval.utils import gen_prediction_files\n",
    "\n",
    "print(f\"Imports ready\")"
   ]
  },
  {
   "cell_type": "code",
   "execution_count": 4,
   "metadata": {},
   "outputs": [
    {
     "name": "stdout",
     "output_type": "stream",
     "text": [
      "cpu\n"
     ]
    }
   ],
   "source": [
    "DEVICE = torch.device('cuda:0' if torch.cuda.is_available() else 'cpu')\n",
    "print(DEVICE)"
   ]
  },
  {
   "cell_type": "code",
   "execution_count": 5,
   "metadata": {},
   "outputs": [],
   "source": [
    "class dataset:\n",
    "\n",
    "    def __init__(self):\n",
    "        return\n",
    "\n",
    "    def __len__(self,):\n",
    "        return 100\n",
    "\n",
    "    def __getitem__(self,i):\n",
    "        return [],[],[]"
   ]
  },
  {
   "cell_type": "code",
   "execution_count": 6,
   "metadata": {},
   "outputs": [],
   "source": [
    "# returns : img_paths, full_boxes, full_masks\n",
    "\n",
    "eval_dataset = dataset()#Wildbrueck(\"/dataset/wildlife\", train=False)"
   ]
  },
  {
   "cell_type": "code",
   "execution_count": 7,
   "metadata": {},
   "outputs": [
    {
     "name": "stderr",
     "output_type": "stream",
     "text": [
      "Fusing layers... \n",
      "Fusing layers... \n",
      "[W323 23:42:44.275896017 NNPACK.cpp:62] Could not initialize NNPACK! Reason: Unsupported hardware.\n",
      "Model summary: 733 layers, 140054656 parameters, 0 gradients, 208.8 GFLOPs\n",
      "Model summary: 733 layers, 140054656 parameters, 0 gradients, 208.8 GFLOPs\n",
      "Loading pretrained weights from Hugging Face hub (BVRA/MegaDescriptor-T-224)\n",
      "Loading pretrained weights from Hugging Face hub (BVRA/MegaDescriptor-T-224)\n"
     ]
    },
    {
     "name": "stdout",
     "output_type": "stream",
     "text": [
      "Initializing sam\n",
      "reeee\n",
      "Video processing started.\n",
      "Warning: out_dir already exists.\n"
     ]
    },
    {
     "name": "stderr",
     "output_type": "stream",
     "text": [
      "0it [00:00, ?it/s]\n"
     ]
    },
    {
     "name": "stdout",
     "output_type": "stream",
     "text": [
      "Saving segmentation masks in mots txt file.\n",
      "Saving segmentation masks in mots txt file.\n",
      "Task finished. Total time needed (in seconds): 0.002177715301513672.\n",
      "reeee\n",
      "Video processing started.\n",
      "Warning: out_dir already exists.\n"
     ]
    },
    {
     "name": "stderr",
     "output_type": "stream",
     "text": [
      "0it [00:00, ?it/s]\n"
     ]
    },
    {
     "name": "stdout",
     "output_type": "stream",
     "text": [
      "Saving segmentation masks in mots txt file.\n",
      "Saving segmentation masks in mots txt file.\n",
      "Task finished. Total time needed (in seconds): 0.0016367435455322266.\n",
      "reeee\n",
      "Video processing started.\n",
      "Warning: out_dir already exists.\n"
     ]
    },
    {
     "name": "stderr",
     "output_type": "stream",
     "text": [
      "0it [00:00, ?it/s]\n"
     ]
    },
    {
     "name": "stdout",
     "output_type": "stream",
     "text": [
      "Saving segmentation masks in mots txt file.\n",
      "Saving segmentation masks in mots txt file.\n",
      "Task finished. Total time needed (in seconds): 0.0011749267578125.\n",
      "reeee\n",
      "Video processing started.\n",
      "Warning: out_dir already exists.\n"
     ]
    },
    {
     "name": "stderr",
     "output_type": "stream",
     "text": [
      "0it [00:00, ?it/s]\n"
     ]
    },
    {
     "name": "stdout",
     "output_type": "stream",
     "text": [
      "Saving segmentation masks in mots txt file.\n",
      "Saving segmentation masks in mots txt file.\n",
      "Task finished. Total time needed (in seconds): 0.001279592514038086.\n",
      "reeee\n",
      "Video processing started.\n",
      "Warning: out_dir already exists.\n"
     ]
    },
    {
     "name": "stderr",
     "output_type": "stream",
     "text": [
      "0it [00:00, ?it/s]\n"
     ]
    },
    {
     "name": "stdout",
     "output_type": "stream",
     "text": [
      "Saving segmentation masks in mots txt file.\n",
      "Saving segmentation masks in mots txt file.\n",
      "Task finished. Total time needed (in seconds): 0.0010714530944824219.\n",
      "reeee\n",
      "Video processing started.\n",
      "Warning: out_dir already exists.\n"
     ]
    },
    {
     "name": "stderr",
     "output_type": "stream",
     "text": [
      "0it [00:00, ?it/s]\n"
     ]
    },
    {
     "name": "stdout",
     "output_type": "stream",
     "text": [
      "Saving segmentation masks in mots txt file.\n",
      "Saving segmentation masks in mots txt file.\n",
      "Task finished. Total time needed (in seconds): 0.0016162395477294922.\n",
      "reeee\n",
      "Video processing started.\n",
      "Warning: out_dir already exists.\n"
     ]
    },
    {
     "name": "stderr",
     "output_type": "stream",
     "text": [
      "0it [00:00, ?it/s]\n"
     ]
    },
    {
     "name": "stdout",
     "output_type": "stream",
     "text": [
      "Saving segmentation masks in mots txt file.\n",
      "Saving segmentation masks in mots txt file.\n",
      "Task finished. Total time needed (in seconds): 0.002039670944213867.\n",
      "reeee\n",
      "Video processing started.\n",
      "Warning: out_dir already exists.\n"
     ]
    },
    {
     "name": "stderr",
     "output_type": "stream",
     "text": [
      "0it [00:00, ?it/s]\n"
     ]
    },
    {
     "name": "stdout",
     "output_type": "stream",
     "text": [
      "Saving segmentation masks in mots txt file.\n",
      "Saving segmentation masks in mots txt file.\n",
      "Task finished. Total time needed (in seconds): 0.0013835430145263672.\n",
      "reeee\n",
      "Video processing started.\n",
      "Warning: out_dir already exists.\n"
     ]
    },
    {
     "name": "stderr",
     "output_type": "stream",
     "text": [
      "0it [00:00, ?it/s]\n"
     ]
    },
    {
     "name": "stdout",
     "output_type": "stream",
     "text": [
      "Saving segmentation masks in mots txt file.\n",
      "Saving segmentation masks in mots txt file.\n",
      "Task finished. Total time needed (in seconds): 0.0012891292572021484.\n",
      "reeee\n",
      "Video processing started.\n",
      "Warning: out_dir already exists.\n"
     ]
    },
    {
     "name": "stderr",
     "output_type": "stream",
     "text": [
      "0it [00:00, ?it/s]\n"
     ]
    },
    {
     "name": "stdout",
     "output_type": "stream",
     "text": [
      "Saving segmentation masks in mots txt file.\n",
      "Saving segmentation masks in mots txt file.\n",
      "Task finished. Total time needed (in seconds): 0.004259824752807617.\n",
      "reeee\n",
      "Video processing started.\n",
      "Warning: out_dir already exists.\n"
     ]
    },
    {
     "name": "stderr",
     "output_type": "stream",
     "text": [
      "0it [00:00, ?it/s]\n"
     ]
    },
    {
     "name": "stdout",
     "output_type": "stream",
     "text": [
      "Saving segmentation masks in mots txt file.\n",
      "Saving segmentation masks in mots txt file.\n",
      "Task finished. Total time needed (in seconds): 0.0022649765014648438.\n",
      "reeee\n",
      "Video processing started.\n",
      "Warning: out_dir already exists.\n"
     ]
    },
    {
     "name": "stderr",
     "output_type": "stream",
     "text": [
      "0it [00:00, ?it/s]\n"
     ]
    },
    {
     "name": "stdout",
     "output_type": "stream",
     "text": [
      "Saving segmentation masks in mots txt file.\n",
      "Saving segmentation masks in mots txt file.\n",
      "Task finished. Total time needed (in seconds): 0.001422882080078125.\n",
      "reeee\n",
      "Video processing started.\n",
      "Warning: out_dir already exists.\n"
     ]
    },
    {
     "name": "stderr",
     "output_type": "stream",
     "text": [
      "0it [00:00, ?it/s]\n"
     ]
    },
    {
     "name": "stdout",
     "output_type": "stream",
     "text": [
      "Saving segmentation masks in mots txt file.\n",
      "Saving segmentation masks in mots txt file.\n",
      "Task finished. Total time needed (in seconds): 0.0014007091522216797.\n",
      "reeee\n",
      "Video processing started.\n",
      "Warning: out_dir already exists.\n"
     ]
    },
    {
     "name": "stderr",
     "output_type": "stream",
     "text": [
      "0it [00:00, ?it/s]\n"
     ]
    },
    {
     "name": "stdout",
     "output_type": "stream",
     "text": [
      "Saving segmentation masks in mots txt file.\n",
      "Saving segmentation masks in mots txt file.\n",
      "Task finished. Total time needed (in seconds): 0.0012307167053222656.\n",
      "reeee\n",
      "Video processing started.\n",
      "Warning: out_dir already exists.\n"
     ]
    },
    {
     "name": "stderr",
     "output_type": "stream",
     "text": [
      "0it [00:00, ?it/s]\n"
     ]
    },
    {
     "name": "stdout",
     "output_type": "stream",
     "text": [
      "Saving segmentation masks in mots txt file.\n",
      "Saving segmentation masks in mots txt file.\n",
      "Task finished. Total time needed (in seconds): 0.001035451889038086.\n",
      "reeee\n",
      "Video processing started.\n",
      "Warning: out_dir already exists.\n"
     ]
    },
    {
     "name": "stderr",
     "output_type": "stream",
     "text": [
      "0it [00:00, ?it/s]\n"
     ]
    },
    {
     "name": "stdout",
     "output_type": "stream",
     "text": [
      "Saving segmentation masks in mots txt file.\n",
      "Saving segmentation masks in mots txt file.\n",
      "Task finished. Total time needed (in seconds): 0.0010373592376708984.\n",
      "reeee\n",
      "Video processing started.\n",
      "Warning: out_dir already exists.\n"
     ]
    },
    {
     "name": "stderr",
     "output_type": "stream",
     "text": [
      "0it [00:00, ?it/s]\n"
     ]
    },
    {
     "name": "stdout",
     "output_type": "stream",
     "text": [
      "Saving segmentation masks in mots txt file.\n",
      "Saving segmentation masks in mots txt file.\n",
      "Task finished. Total time needed (in seconds): 0.0009136199951171875.\n",
      "reeee\n",
      "Video processing started.\n",
      "Warning: out_dir already exists.\n"
     ]
    },
    {
     "name": "stderr",
     "output_type": "stream",
     "text": [
      "0it [00:00, ?it/s]\n"
     ]
    },
    {
     "name": "stdout",
     "output_type": "stream",
     "text": [
      "Saving segmentation masks in mots txt file.\n",
      "Saving segmentation masks in mots txt file.\n",
      "Task finished. Total time needed (in seconds): 0.0016865730285644531.\n",
      "reeee\n",
      "Video processing started.\n",
      "Warning: out_dir already exists.\n"
     ]
    },
    {
     "name": "stderr",
     "output_type": "stream",
     "text": [
      "0it [00:00, ?it/s]\n"
     ]
    },
    {
     "name": "stdout",
     "output_type": "stream",
     "text": [
      "Saving segmentation masks in mots txt file.\n",
      "Saving segmentation masks in mots txt file.\n",
      "Task finished. Total time needed (in seconds): 0.0017056465148925781.\n",
      "reeee\n",
      "Video processing started.\n",
      "Warning: out_dir already exists.\n"
     ]
    },
    {
     "name": "stderr",
     "output_type": "stream",
     "text": [
      "0it [00:00, ?it/s]\n"
     ]
    },
    {
     "name": "stdout",
     "output_type": "stream",
     "text": [
      "Saving segmentation masks in mots txt file.\n",
      "Saving segmentation masks in mots txt file.\n",
      "Task finished. Total time needed (in seconds): 0.0013854503631591797.\n",
      "reeee\n",
      "Video processing started.\n",
      "Warning: out_dir already exists.\n"
     ]
    },
    {
     "name": "stderr",
     "output_type": "stream",
     "text": [
      "0it [00:00, ?it/s]\n"
     ]
    },
    {
     "name": "stdout",
     "output_type": "stream",
     "text": [
      "Saving segmentation masks in mots txt file.\n",
      "Saving segmentation masks in mots txt file.\n",
      "Task finished. Total time needed (in seconds): 0.0012483596801757812.\n",
      "reeee\n",
      "Video processing started.\n",
      "Warning: out_dir already exists.\n"
     ]
    },
    {
     "name": "stderr",
     "output_type": "stream",
     "text": [
      "0it [00:00, ?it/s]\n"
     ]
    },
    {
     "name": "stdout",
     "output_type": "stream",
     "text": [
      "Saving segmentation masks in mots txt file.\n",
      "Saving segmentation masks in mots txt file.\n",
      "Task finished. Total time needed (in seconds): 0.0013415813446044922.\n",
      "reeee\n",
      "Video processing started.\n",
      "Warning: out_dir already exists.\n"
     ]
    },
    {
     "name": "stderr",
     "output_type": "stream",
     "text": [
      "0it [00:00, ?it/s]\n"
     ]
    },
    {
     "name": "stdout",
     "output_type": "stream",
     "text": [
      "Saving segmentation masks in mots txt file.\n",
      "Saving segmentation masks in mots txt file.\n",
      "Task finished. Total time needed (in seconds): 0.0013282299041748047.\n",
      "reeee\n",
      "Video processing started.\n",
      "Warning: out_dir already exists.\n"
     ]
    },
    {
     "name": "stderr",
     "output_type": "stream",
     "text": [
      "0it [00:00, ?it/s]\n"
     ]
    },
    {
     "name": "stdout",
     "output_type": "stream",
     "text": [
      "Saving segmentation masks in mots txt file.\n",
      "Saving segmentation masks in mots txt file.\n",
      "Task finished. Total time needed (in seconds): 0.001249074935913086.\n",
      "reeee\n",
      "Video processing started.\n",
      "Warning: out_dir already exists.\n"
     ]
    },
    {
     "name": "stderr",
     "output_type": "stream",
     "text": [
      "0it [00:00, ?it/s]\n"
     ]
    },
    {
     "name": "stdout",
     "output_type": "stream",
     "text": [
      "Saving segmentation masks in mots txt file.\n",
      "Saving segmentation masks in mots txt file.\n",
      "Task finished. Total time needed (in seconds): 0.0013544559478759766.\n",
      "reeee\n",
      "Video processing started.\n",
      "Warning: out_dir already exists.\n"
     ]
    },
    {
     "name": "stderr",
     "output_type": "stream",
     "text": [
      "0it [00:00, ?it/s]\n"
     ]
    },
    {
     "name": "stdout",
     "output_type": "stream",
     "text": [
      "Saving segmentation masks in mots txt file.\n",
      "Saving segmentation masks in mots txt file.\n",
      "Task finished. Total time needed (in seconds): 0.0011606216430664062.\n",
      "reeee\n",
      "Video processing started.\n",
      "Warning: out_dir already exists.\n"
     ]
    },
    {
     "name": "stderr",
     "output_type": "stream",
     "text": [
      "0it [00:00, ?it/s]\n"
     ]
    },
    {
     "name": "stdout",
     "output_type": "stream",
     "text": [
      "Saving segmentation masks in mots txt file.\n",
      "Saving segmentation masks in mots txt file.\n",
      "Task finished. Total time needed (in seconds): 0.0013875961303710938.\n",
      "reeee\n",
      "Video processing started.\n",
      "Warning: out_dir already exists.\n"
     ]
    },
    {
     "name": "stderr",
     "output_type": "stream",
     "text": [
      "0it [00:00, ?it/s]\n"
     ]
    },
    {
     "name": "stdout",
     "output_type": "stream",
     "text": [
      "Saving segmentation masks in mots txt file.\n",
      "Saving segmentation masks in mots txt file.\n",
      "Task finished. Total time needed (in seconds): 0.004808187484741211.\n",
      "reeee\n",
      "Video processing started.\n",
      "Warning: out_dir already exists.\n"
     ]
    },
    {
     "name": "stderr",
     "output_type": "stream",
     "text": [
      "0it [00:00, ?it/s]\n"
     ]
    },
    {
     "name": "stdout",
     "output_type": "stream",
     "text": [
      "Saving segmentation masks in mots txt file.\n",
      "Saving segmentation masks in mots txt file.\n",
      "Task finished. Total time needed (in seconds): 0.00144195556640625.\n",
      "reeee\n",
      "Video processing started.\n",
      "Warning: out_dir already exists.\n"
     ]
    },
    {
     "name": "stderr",
     "output_type": "stream",
     "text": [
      "0it [00:00, ?it/s]\n"
     ]
    },
    {
     "name": "stdout",
     "output_type": "stream",
     "text": [
      "Saving segmentation masks in mots txt file.\n",
      "Saving segmentation masks in mots txt file.\n",
      "Task finished. Total time needed (in seconds): 0.0014672279357910156.\n",
      "reeee\n",
      "Video processing started.\n",
      "Warning: out_dir already exists.\n"
     ]
    },
    {
     "name": "stderr",
     "output_type": "stream",
     "text": [
      "0it [00:00, ?it/s]\n"
     ]
    },
    {
     "name": "stdout",
     "output_type": "stream",
     "text": [
      "Saving segmentation masks in mots txt file.\n",
      "Saving segmentation masks in mots txt file.\n",
      "Task finished. Total time needed (in seconds): 0.002015352249145508.\n",
      "reeee\n",
      "Video processing started.\n",
      "Warning: out_dir already exists.\n"
     ]
    },
    {
     "name": "stderr",
     "output_type": "stream",
     "text": [
      "0it [00:00, ?it/s]\n"
     ]
    },
    {
     "name": "stdout",
     "output_type": "stream",
     "text": [
      "Saving segmentation masks in mots txt file.\n",
      "Saving segmentation masks in mots txt file.\n",
      "Task finished. Total time needed (in seconds): 0.0015635490417480469.\n",
      "reeee\n",
      "Video processing started.\n",
      "Warning: out_dir already exists.\n"
     ]
    },
    {
     "name": "stderr",
     "output_type": "stream",
     "text": [
      "0it [00:00, ?it/s]\n"
     ]
    },
    {
     "name": "stdout",
     "output_type": "stream",
     "text": [
      "Saving segmentation masks in mots txt file.\n",
      "Saving segmentation masks in mots txt file.\n",
      "Task finished. Total time needed (in seconds): 0.0014276504516601562.\n",
      "reeee\n",
      "Video processing started.\n",
      "Warning: out_dir already exists.\n"
     ]
    },
    {
     "name": "stderr",
     "output_type": "stream",
     "text": [
      "0it [00:00, ?it/s]\n"
     ]
    },
    {
     "name": "stdout",
     "output_type": "stream",
     "text": [
      "Saving segmentation masks in mots txt file.\n",
      "Saving segmentation masks in mots txt file.\n",
      "Task finished. Total time needed (in seconds): 0.002173900604248047.\n",
      "reeee\n",
      "Video processing started.\n",
      "Warning: out_dir already exists.\n"
     ]
    },
    {
     "name": "stderr",
     "output_type": "stream",
     "text": [
      "0it [00:00, ?it/s]\n"
     ]
    },
    {
     "name": "stdout",
     "output_type": "stream",
     "text": [
      "Saving segmentation masks in mots txt file.\n",
      "Saving segmentation masks in mots txt file.\n",
      "Task finished. Total time needed (in seconds): 0.0027136802673339844.\n",
      "reeee\n",
      "Video processing started.\n",
      "Warning: out_dir already exists.\n"
     ]
    },
    {
     "name": "stderr",
     "output_type": "stream",
     "text": [
      "0it [00:00, ?it/s]\n"
     ]
    },
    {
     "name": "stdout",
     "output_type": "stream",
     "text": [
      "Saving segmentation masks in mots txt file.\n",
      "Saving segmentation masks in mots txt file.\n",
      "Task finished. Total time needed (in seconds): 0.0014147758483886719.\n",
      "reeee\n",
      "Video processing started.\n",
      "Warning: out_dir already exists.\n"
     ]
    },
    {
     "name": "stderr",
     "output_type": "stream",
     "text": [
      "0it [00:00, ?it/s]\n"
     ]
    },
    {
     "name": "stdout",
     "output_type": "stream",
     "text": [
      "Saving segmentation masks in mots txt file.\n",
      "Saving segmentation masks in mots txt file.\n",
      "Task finished. Total time needed (in seconds): 0.0014407634735107422.\n",
      "reeee\n",
      "Video processing started.\n",
      "Warning: out_dir already exists.\n"
     ]
    },
    {
     "name": "stderr",
     "output_type": "stream",
     "text": [
      "0it [00:00, ?it/s]\n"
     ]
    },
    {
     "name": "stdout",
     "output_type": "stream",
     "text": [
      "Saving segmentation masks in mots txt file.\n",
      "Saving segmentation masks in mots txt file.\n",
      "Task finished. Total time needed (in seconds): 0.002150297164916992.\n",
      "reeee\n",
      "Video processing started.\n",
      "Warning: out_dir already exists.\n"
     ]
    },
    {
     "name": "stderr",
     "output_type": "stream",
     "text": [
      "0it [00:00, ?it/s]\n"
     ]
    },
    {
     "name": "stdout",
     "output_type": "stream",
     "text": [
      "Saving segmentation masks in mots txt file.\n",
      "Saving segmentation masks in mots txt file.\n",
      "Task finished. Total time needed (in seconds): 0.0014348030090332031.\n",
      "reeee\n",
      "Video processing started.\n",
      "Warning: out_dir already exists.\n"
     ]
    },
    {
     "name": "stderr",
     "output_type": "stream",
     "text": [
      "0it [00:00, ?it/s]\n"
     ]
    },
    {
     "name": "stdout",
     "output_type": "stream",
     "text": [
      "Saving segmentation masks in mots txt file.\n",
      "Saving segmentation masks in mots txt file.\n",
      "Task finished. Total time needed (in seconds): 0.0013527870178222656.\n",
      "reeee\n",
      "Video processing started.\n",
      "Warning: out_dir already exists.\n"
     ]
    },
    {
     "name": "stderr",
     "output_type": "stream",
     "text": [
      "0it [00:00, ?it/s]\n"
     ]
    },
    {
     "name": "stdout",
     "output_type": "stream",
     "text": [
      "Saving segmentation masks in mots txt file.\n",
      "Saving segmentation masks in mots txt file.\n",
      "Task finished. Total time needed (in seconds): 0.0014853477478027344.\n",
      "reeee\n",
      "Video processing started.\n",
      "Warning: out_dir already exists.\n"
     ]
    },
    {
     "name": "stderr",
     "output_type": "stream",
     "text": [
      "0it [00:00, ?it/s]\n"
     ]
    },
    {
     "name": "stdout",
     "output_type": "stream",
     "text": [
      "Saving segmentation masks in mots txt file.\n",
      "Saving segmentation masks in mots txt file.\n",
      "Task finished. Total time needed (in seconds): 0.0017426013946533203.\n",
      "reeee\n",
      "Video processing started.\n",
      "Warning: out_dir already exists.\n"
     ]
    },
    {
     "name": "stderr",
     "output_type": "stream",
     "text": [
      "0it [00:00, ?it/s]\n"
     ]
    },
    {
     "name": "stdout",
     "output_type": "stream",
     "text": [
      "Saving segmentation masks in mots txt file.\n",
      "Saving segmentation masks in mots txt file.\n",
      "Task finished. Total time needed (in seconds): 0.0013384819030761719.\n",
      "reeee\n",
      "Video processing started.\n",
      "Warning: out_dir already exists.\n"
     ]
    },
    {
     "name": "stderr",
     "output_type": "stream",
     "text": [
      "0it [00:00, ?it/s]\n"
     ]
    },
    {
     "name": "stdout",
     "output_type": "stream",
     "text": [
      "Saving segmentation masks in mots txt file.\n",
      "Saving segmentation masks in mots txt file.\n",
      "Task finished. Total time needed (in seconds): 0.005957126617431641.\n",
      "reeee\n",
      "Video processing started.\n",
      "Warning: out_dir already exists.\n"
     ]
    },
    {
     "name": "stderr",
     "output_type": "stream",
     "text": [
      "0it [00:00, ?it/s]\n"
     ]
    },
    {
     "name": "stdout",
     "output_type": "stream",
     "text": [
      "Saving segmentation masks in mots txt file.\n",
      "Saving segmentation masks in mots txt file.\n",
      "Task finished. Total time needed (in seconds): 0.0015130043029785156.\n",
      "reeee\n",
      "Video processing started.\n",
      "Warning: out_dir already exists.\n"
     ]
    },
    {
     "name": "stderr",
     "output_type": "stream",
     "text": [
      "0it [00:00, ?it/s]\n"
     ]
    },
    {
     "name": "stdout",
     "output_type": "stream",
     "text": [
      "Saving segmentation masks in mots txt file.\n",
      "Saving segmentation masks in mots txt file.\n",
      "Task finished. Total time needed (in seconds): 0.0012388229370117188.\n",
      "reeee\n",
      "Video processing started.\n",
      "Warning: out_dir already exists.\n"
     ]
    },
    {
     "name": "stderr",
     "output_type": "stream",
     "text": [
      "0it [00:00, ?it/s]\n"
     ]
    },
    {
     "name": "stdout",
     "output_type": "stream",
     "text": [
      "Saving segmentation masks in mots txt file.\n",
      "Saving segmentation masks in mots txt file.\n",
      "Task finished. Total time needed (in seconds): 0.0018262863159179688.\n",
      "reeee\n",
      "Video processing started.\n",
      "Warning: out_dir already exists.\n"
     ]
    },
    {
     "name": "stderr",
     "output_type": "stream",
     "text": [
      "0it [00:00, ?it/s]\n"
     ]
    },
    {
     "name": "stdout",
     "output_type": "stream",
     "text": [
      "Saving segmentation masks in mots txt file.\n",
      "Saving segmentation masks in mots txt file.\n",
      "Task finished. Total time needed (in seconds): 0.0014185905456542969.\n",
      "reeee\n",
      "Video processing started.\n",
      "Warning: out_dir already exists.\n"
     ]
    },
    {
     "name": "stderr",
     "output_type": "stream",
     "text": [
      "0it [00:00, ?it/s]\n"
     ]
    },
    {
     "name": "stdout",
     "output_type": "stream",
     "text": [
      "Saving segmentation masks in mots txt file.\n",
      "Saving segmentation masks in mots txt file.\n",
      "Task finished. Total time needed (in seconds): 0.0012369155883789062.\n",
      "reeee\n",
      "Video processing started.\n",
      "Warning: out_dir already exists.\n"
     ]
    },
    {
     "name": "stderr",
     "output_type": "stream",
     "text": [
      "0it [00:00, ?it/s]\n"
     ]
    },
    {
     "name": "stdout",
     "output_type": "stream",
     "text": [
      "Saving segmentation masks in mots txt file.\n",
      "Saving segmentation masks in mots txt file.\n",
      "Task finished. Total time needed (in seconds): 0.0012125968933105469.\n",
      "reeee\n",
      "Video processing started.\n",
      "Warning: out_dir already exists.\n"
     ]
    },
    {
     "name": "stderr",
     "output_type": "stream",
     "text": [
      "0it [00:00, ?it/s]\n"
     ]
    },
    {
     "name": "stdout",
     "output_type": "stream",
     "text": [
      "Saving segmentation masks in mots txt file.\n",
      "Saving segmentation masks in mots txt file.\n",
      "Task finished. Total time needed (in seconds): 0.0012557506561279297.\n",
      "reeee\n",
      "Video processing started.\n",
      "Warning: out_dir already exists.\n"
     ]
    },
    {
     "name": "stderr",
     "output_type": "stream",
     "text": [
      "0it [00:00, ?it/s]\n"
     ]
    },
    {
     "name": "stdout",
     "output_type": "stream",
     "text": [
      "Saving segmentation masks in mots txt file.\n",
      "Saving segmentation masks in mots txt file.\n",
      "Task finished. Total time needed (in seconds): 0.0019443035125732422.\n",
      "reeee\n",
      "Video processing started.\n",
      "Warning: out_dir already exists.\n"
     ]
    },
    {
     "name": "stderr",
     "output_type": "stream",
     "text": [
      "0it [00:00, ?it/s]\n"
     ]
    },
    {
     "name": "stdout",
     "output_type": "stream",
     "text": [
      "Saving segmentation masks in mots txt file.\n",
      "Saving segmentation masks in mots txt file.\n",
      "Task finished. Total time needed (in seconds): 0.0012497901916503906.\n",
      "reeee\n",
      "Video processing started.\n",
      "Warning: out_dir already exists.\n"
     ]
    },
    {
     "name": "stderr",
     "output_type": "stream",
     "text": [
      "0it [00:00, ?it/s]\n"
     ]
    },
    {
     "name": "stdout",
     "output_type": "stream",
     "text": [
      "Saving segmentation masks in mots txt file.\n",
      "Saving segmentation masks in mots txt file.\n",
      "Task finished. Total time needed (in seconds): 0.0008971691131591797.\n",
      "reeee\n",
      "Video processing started.\n",
      "Warning: out_dir already exists.\n"
     ]
    },
    {
     "name": "stderr",
     "output_type": "stream",
     "text": [
      "0it [00:00, ?it/s]\n"
     ]
    },
    {
     "name": "stdout",
     "output_type": "stream",
     "text": [
      "Saving segmentation masks in mots txt file.\n",
      "Saving segmentation masks in mots txt file.\n",
      "Task finished. Total time needed (in seconds): 0.0022954940795898438.\n",
      "reeee\n",
      "Video processing started.\n",
      "Warning: out_dir already exists.\n"
     ]
    },
    {
     "name": "stderr",
     "output_type": "stream",
     "text": [
      "0it [00:00, ?it/s]\n"
     ]
    },
    {
     "name": "stdout",
     "output_type": "stream",
     "text": [
      "Saving segmentation masks in mots txt file.\n",
      "Saving segmentation masks in mots txt file.\n",
      "Task finished. Total time needed (in seconds): 0.002120494842529297.\n",
      "reeee\n",
      "Video processing started.\n",
      "Warning: out_dir already exists.\n"
     ]
    },
    {
     "name": "stderr",
     "output_type": "stream",
     "text": [
      "0it [00:00, ?it/s]\n"
     ]
    },
    {
     "name": "stdout",
     "output_type": "stream",
     "text": [
      "Saving segmentation masks in mots txt file.\n",
      "Saving segmentation masks in mots txt file.\n",
      "Task finished. Total time needed (in seconds): 0.0013072490692138672.\n",
      "reeee\n",
      "Video processing started.\n",
      "Warning: out_dir already exists.\n"
     ]
    },
    {
     "name": "stderr",
     "output_type": "stream",
     "text": [
      "0it [00:00, ?it/s]\n"
     ]
    },
    {
     "name": "stdout",
     "output_type": "stream",
     "text": [
      "Saving segmentation masks in mots txt file.\n",
      "Saving segmentation masks in mots txt file.\n",
      "Task finished. Total time needed (in seconds): 0.0016751289367675781.\n",
      "reeee\n",
      "Video processing started.\n",
      "Warning: out_dir already exists.\n"
     ]
    },
    {
     "name": "stderr",
     "output_type": "stream",
     "text": [
      "0it [00:00, ?it/s]\n"
     ]
    },
    {
     "name": "stdout",
     "output_type": "stream",
     "text": [
      "Saving segmentation masks in mots txt file.\n",
      "Saving segmentation masks in mots txt file.\n",
      "Task finished. Total time needed (in seconds): 0.0015094280242919922.\n",
      "reeee\n",
      "Video processing started.\n",
      "Warning: out_dir already exists.\n"
     ]
    },
    {
     "name": "stderr",
     "output_type": "stream",
     "text": [
      "0it [00:00, ?it/s]\n"
     ]
    },
    {
     "name": "stdout",
     "output_type": "stream",
     "text": [
      "Saving segmentation masks in mots txt file.\n",
      "Saving segmentation masks in mots txt file.\n",
      "Task finished. Total time needed (in seconds): 0.0056667327880859375.\n",
      "reeee\n",
      "Video processing started.\n",
      "Warning: out_dir already exists.\n"
     ]
    },
    {
     "name": "stderr",
     "output_type": "stream",
     "text": [
      "0it [00:00, ?it/s]\n"
     ]
    },
    {
     "name": "stdout",
     "output_type": "stream",
     "text": [
      "Saving segmentation masks in mots txt file.\n",
      "Saving segmentation masks in mots txt file.\n",
      "Task finished. Total time needed (in seconds): 0.0016493797302246094.\n",
      "reeee\n",
      "Video processing started.\n",
      "Warning: out_dir already exists.\n"
     ]
    },
    {
     "name": "stderr",
     "output_type": "stream",
     "text": [
      "0it [00:00, ?it/s]\n"
     ]
    },
    {
     "name": "stdout",
     "output_type": "stream",
     "text": [
      "Saving segmentation masks in mots txt file.\n",
      "Saving segmentation masks in mots txt file.\n",
      "Task finished. Total time needed (in seconds): 0.0013070106506347656.\n",
      "reeee\n",
      "Video processing started.\n",
      "Warning: out_dir already exists.\n"
     ]
    },
    {
     "name": "stderr",
     "output_type": "stream",
     "text": [
      "0it [00:00, ?it/s]\n"
     ]
    },
    {
     "name": "stdout",
     "output_type": "stream",
     "text": [
      "Saving segmentation masks in mots txt file.\n",
      "Saving segmentation masks in mots txt file.\n",
      "Task finished. Total time needed (in seconds): 0.0012798309326171875.\n",
      "reeee\n",
      "Video processing started.\n",
      "Warning: out_dir already exists.\n"
     ]
    },
    {
     "name": "stderr",
     "output_type": "stream",
     "text": [
      "0it [00:00, ?it/s]\n"
     ]
    },
    {
     "name": "stdout",
     "output_type": "stream",
     "text": [
      "Saving segmentation masks in mots txt file.\n",
      "Saving segmentation masks in mots txt file.\n",
      "Task finished. Total time needed (in seconds): 0.0014424324035644531.\n",
      "reeee\n",
      "Video processing started.\n",
      "Warning: out_dir already exists.\n"
     ]
    },
    {
     "name": "stderr",
     "output_type": "stream",
     "text": [
      "0it [00:00, ?it/s]\n"
     ]
    },
    {
     "name": "stdout",
     "output_type": "stream",
     "text": [
      "Saving segmentation masks in mots txt file.\n",
      "Saving segmentation masks in mots txt file.\n",
      "Task finished. Total time needed (in seconds): 0.0012471675872802734.\n",
      "reeee\n",
      "Video processing started.\n",
      "Warning: out_dir already exists.\n"
     ]
    },
    {
     "name": "stderr",
     "output_type": "stream",
     "text": [
      "0it [00:00, ?it/s]\n"
     ]
    },
    {
     "name": "stdout",
     "output_type": "stream",
     "text": [
      "Saving segmentation masks in mots txt file.\n",
      "Saving segmentation masks in mots txt file.\n",
      "Task finished. Total time needed (in seconds): 0.0013873577117919922.\n",
      "reeee\n",
      "Video processing started.\n",
      "Warning: out_dir already exists.\n"
     ]
    },
    {
     "name": "stderr",
     "output_type": "stream",
     "text": [
      "0it [00:00, ?it/s]\n"
     ]
    },
    {
     "name": "stdout",
     "output_type": "stream",
     "text": [
      "Saving segmentation masks in mots txt file.\n",
      "Saving segmentation masks in mots txt file.\n",
      "Task finished. Total time needed (in seconds): 0.0012297630310058594.\n",
      "reeee\n",
      "Video processing started.\n",
      "Warning: out_dir already exists.\n"
     ]
    },
    {
     "name": "stderr",
     "output_type": "stream",
     "text": [
      "0it [00:00, ?it/s]\n"
     ]
    },
    {
     "name": "stdout",
     "output_type": "stream",
     "text": [
      "Saving segmentation masks in mots txt file.\n",
      "Saving segmentation masks in mots txt file.\n",
      "Task finished. Total time needed (in seconds): 0.0023839473724365234.\n",
      "reeee\n",
      "Video processing started.\n",
      "Warning: out_dir already exists.\n"
     ]
    },
    {
     "name": "stderr",
     "output_type": "stream",
     "text": [
      "0it [00:00, ?it/s]\n"
     ]
    },
    {
     "name": "stdout",
     "output_type": "stream",
     "text": [
      "Saving segmentation masks in mots txt file.\n",
      "Saving segmentation masks in mots txt file.\n",
      "Task finished. Total time needed (in seconds): 0.0018978118896484375.\n",
      "reeee\n",
      "Video processing started.\n",
      "Warning: out_dir already exists.\n"
     ]
    },
    {
     "name": "stderr",
     "output_type": "stream",
     "text": [
      "0it [00:00, ?it/s]\n"
     ]
    },
    {
     "name": "stdout",
     "output_type": "stream",
     "text": [
      "Saving segmentation masks in mots txt file.\n",
      "Saving segmentation masks in mots txt file.\n",
      "Task finished. Total time needed (in seconds): 0.0016617774963378906.\n",
      "reeee\n",
      "Video processing started.\n",
      "Warning: out_dir already exists.\n"
     ]
    },
    {
     "name": "stderr",
     "output_type": "stream",
     "text": [
      "0it [00:00, ?it/s]\n"
     ]
    },
    {
     "name": "stdout",
     "output_type": "stream",
     "text": [
      "Saving segmentation masks in mots txt file.\n",
      "Saving segmentation masks in mots txt file.\n",
      "Task finished. Total time needed (in seconds): 0.003683805465698242.\n",
      "reeee\n",
      "Video processing started.\n",
      "Warning: out_dir already exists.\n"
     ]
    },
    {
     "name": "stderr",
     "output_type": "stream",
     "text": [
      "0it [00:00, ?it/s]\n"
     ]
    },
    {
     "name": "stdout",
     "output_type": "stream",
     "text": [
      "Saving segmentation masks in mots txt file.\n",
      "Saving segmentation masks in mots txt file.\n",
      "Task finished. Total time needed (in seconds): 0.0031604766845703125.\n",
      "reeee\n",
      "Video processing started.\n",
      "Warning: out_dir already exists.\n"
     ]
    },
    {
     "name": "stderr",
     "output_type": "stream",
     "text": [
      "0it [00:00, ?it/s]\n"
     ]
    },
    {
     "name": "stdout",
     "output_type": "stream",
     "text": [
      "Saving segmentation masks in mots txt file.\n",
      "Saving segmentation masks in mots txt file.\n",
      "Task finished. Total time needed (in seconds): 0.006086587905883789.\n",
      "reeee\n",
      "Video processing started.\n",
      "Warning: out_dir already exists.\n"
     ]
    },
    {
     "name": "stderr",
     "output_type": "stream",
     "text": [
      "0it [00:00, ?it/s]\n"
     ]
    },
    {
     "name": "stdout",
     "output_type": "stream",
     "text": [
      "Saving segmentation masks in mots txt file.\n",
      "Saving segmentation masks in mots txt file.\n",
      "Task finished. Total time needed (in seconds): 0.001955747604370117.\n",
      "reeee\n",
      "Video processing started.\n",
      "Warning: out_dir already exists.\n"
     ]
    },
    {
     "name": "stderr",
     "output_type": "stream",
     "text": [
      "0it [00:00, ?it/s]\n"
     ]
    },
    {
     "name": "stdout",
     "output_type": "stream",
     "text": [
      "Saving segmentation masks in mots txt file.\n",
      "Saving segmentation masks in mots txt file.\n",
      "Task finished. Total time needed (in seconds): 0.00188446044921875.\n",
      "reeee\n",
      "Video processing started.\n",
      "Warning: out_dir already exists.\n"
     ]
    },
    {
     "name": "stderr",
     "output_type": "stream",
     "text": [
      "0it [00:00, ?it/s]\n"
     ]
    },
    {
     "name": "stdout",
     "output_type": "stream",
     "text": [
      "Saving segmentation masks in mots txt file.\n",
      "Saving segmentation masks in mots txt file.\n",
      "Task finished. Total time needed (in seconds): 0.0015518665313720703.\n",
      "reeee\n",
      "Video processing started.\n",
      "Warning: out_dir already exists.\n"
     ]
    },
    {
     "name": "stderr",
     "output_type": "stream",
     "text": [
      "0it [00:00, ?it/s]\n"
     ]
    },
    {
     "name": "stdout",
     "output_type": "stream",
     "text": [
      "Saving segmentation masks in mots txt file.\n",
      "Saving segmentation masks in mots txt file.\n",
      "Task finished. Total time needed (in seconds): 0.0014121532440185547.\n",
      "reeee\n",
      "Video processing started.\n",
      "Warning: out_dir already exists.\n"
     ]
    },
    {
     "name": "stderr",
     "output_type": "stream",
     "text": [
      "0it [00:00, ?it/s]\n"
     ]
    },
    {
     "name": "stdout",
     "output_type": "stream",
     "text": [
      "Saving segmentation masks in mots txt file.\n",
      "Saving segmentation masks in mots txt file.\n",
      "Task finished. Total time needed (in seconds): 0.0012886524200439453.\n",
      "reeee\n",
      "Video processing started.\n",
      "Warning: out_dir already exists.\n"
     ]
    },
    {
     "name": "stderr",
     "output_type": "stream",
     "text": [
      "0it [00:00, ?it/s]\n"
     ]
    },
    {
     "name": "stdout",
     "output_type": "stream",
     "text": [
      "Saving segmentation masks in mots txt file.\n",
      "Saving segmentation masks in mots txt file.\n",
      "Task finished. Total time needed (in seconds): 0.001298666000366211.\n",
      "reeee\n",
      "Video processing started.\n",
      "Warning: out_dir already exists.\n"
     ]
    },
    {
     "name": "stderr",
     "output_type": "stream",
     "text": [
      "0it [00:00, ?it/s]\n"
     ]
    },
    {
     "name": "stdout",
     "output_type": "stream",
     "text": [
      "Saving segmentation masks in mots txt file.\n",
      "Saving segmentation masks in mots txt file.\n",
      "Task finished. Total time needed (in seconds): 0.0017366409301757812.\n",
      "reeee\n",
      "Video processing started.\n",
      "Warning: out_dir already exists.\n"
     ]
    },
    {
     "name": "stderr",
     "output_type": "stream",
     "text": [
      "0it [00:00, ?it/s]\n"
     ]
    },
    {
     "name": "stdout",
     "output_type": "stream",
     "text": [
      "Saving segmentation masks in mots txt file.\n",
      "Saving segmentation masks in mots txt file.\n",
      "Task finished. Total time needed (in seconds): 0.0010442733764648438.\n",
      "reeee\n",
      "Video processing started.\n",
      "Warning: out_dir already exists.\n"
     ]
    },
    {
     "name": "stderr",
     "output_type": "stream",
     "text": [
      "0it [00:00, ?it/s]\n"
     ]
    },
    {
     "name": "stdout",
     "output_type": "stream",
     "text": [
      "Saving segmentation masks in mots txt file.\n",
      "Saving segmentation masks in mots txt file.\n",
      "Task finished. Total time needed (in seconds): 0.0012133121490478516.\n",
      "reeee\n",
      "Video processing started.\n",
      "Warning: out_dir already exists.\n"
     ]
    },
    {
     "name": "stderr",
     "output_type": "stream",
     "text": [
      "0it [00:00, ?it/s]\n"
     ]
    },
    {
     "name": "stdout",
     "output_type": "stream",
     "text": [
      "Saving segmentation masks in mots txt file.\n",
      "Saving segmentation masks in mots txt file.\n",
      "Task finished. Total time needed (in seconds): 0.0015957355499267578.\n",
      "reeee\n",
      "Video processing started.\n",
      "Warning: out_dir already exists.\n"
     ]
    },
    {
     "name": "stderr",
     "output_type": "stream",
     "text": [
      "0it [00:00, ?it/s]\n"
     ]
    },
    {
     "name": "stdout",
     "output_type": "stream",
     "text": [
      "Saving segmentation masks in mots txt file.\n",
      "Saving segmentation masks in mots txt file.\n",
      "Task finished. Total time needed (in seconds): 0.001661539077758789.\n",
      "reeee\n",
      "Video processing started.\n",
      "Warning: out_dir already exists.\n"
     ]
    },
    {
     "name": "stderr",
     "output_type": "stream",
     "text": [
      "0it [00:00, ?it/s]\n"
     ]
    },
    {
     "name": "stdout",
     "output_type": "stream",
     "text": [
      "Saving segmentation masks in mots txt file.\n",
      "Saving segmentation masks in mots txt file.\n",
      "Task finished. Total time needed (in seconds): 0.0013477802276611328.\n",
      "reeee\n",
      "Video processing started.\n",
      "Warning: out_dir already exists.\n"
     ]
    },
    {
     "name": "stderr",
     "output_type": "stream",
     "text": [
      "0it [00:00, ?it/s]\n"
     ]
    },
    {
     "name": "stdout",
     "output_type": "stream",
     "text": [
      "Saving segmentation masks in mots txt file.\n",
      "Saving segmentation masks in mots txt file.\n",
      "Task finished. Total time needed (in seconds): 0.0010943412780761719.\n",
      "reeee\n",
      "Video processing started.\n",
      "Warning: out_dir already exists.\n"
     ]
    },
    {
     "name": "stderr",
     "output_type": "stream",
     "text": [
      "0it [00:00, ?it/s]\n"
     ]
    },
    {
     "name": "stdout",
     "output_type": "stream",
     "text": [
      "Saving segmentation masks in mots txt file.\n",
      "Saving segmentation masks in mots txt file.\n",
      "Task finished. Total time needed (in seconds): 0.0012950897216796875.\n",
      "reeee\n",
      "Video processing started.\n",
      "Warning: out_dir already exists.\n"
     ]
    },
    {
     "name": "stderr",
     "output_type": "stream",
     "text": [
      "0it [00:00, ?it/s]\n"
     ]
    },
    {
     "name": "stdout",
     "output_type": "stream",
     "text": [
      "Saving segmentation masks in mots txt file.\n",
      "Saving segmentation masks in mots txt file.\n",
      "Task finished. Total time needed (in seconds): 0.0011937618255615234.\n",
      "reeee\n",
      "Video processing started.\n",
      "Warning: out_dir already exists.\n"
     ]
    },
    {
     "name": "stderr",
     "output_type": "stream",
     "text": [
      "0it [00:00, ?it/s]\n"
     ]
    },
    {
     "name": "stdout",
     "output_type": "stream",
     "text": [
      "Saving segmentation masks in mots txt file.\n",
      "Saving segmentation masks in mots txt file.\n",
      "Task finished. Total time needed (in seconds): 0.0014858245849609375.\n",
      "reeee\n",
      "Video processing started.\n",
      "Warning: out_dir already exists.\n"
     ]
    },
    {
     "name": "stderr",
     "output_type": "stream",
     "text": [
      "0it [00:00, ?it/s]\n"
     ]
    },
    {
     "name": "stdout",
     "output_type": "stream",
     "text": [
      "Saving segmentation masks in mots txt file.\n",
      "Saving segmentation masks in mots txt file.\n",
      "Task finished. Total time needed (in seconds): 0.0016622543334960938.\n",
      "reeee\n",
      "Video processing started.\n",
      "Warning: out_dir already exists.\n"
     ]
    },
    {
     "name": "stderr",
     "output_type": "stream",
     "text": [
      "0it [00:00, ?it/s]\n"
     ]
    },
    {
     "name": "stdout",
     "output_type": "stream",
     "text": [
      "Saving segmentation masks in mots txt file.\n",
      "Saving segmentation masks in mots txt file.\n",
      "Task finished. Total time needed (in seconds): 0.0011301040649414062.\n",
      "reeee\n",
      "Video processing started.\n",
      "Warning: out_dir already exists.\n"
     ]
    },
    {
     "name": "stderr",
     "output_type": "stream",
     "text": [
      "0it [00:00, ?it/s]\n"
     ]
    },
    {
     "name": "stdout",
     "output_type": "stream",
     "text": [
      "Saving segmentation masks in mots txt file.\n",
      "Saving segmentation masks in mots txt file.\n",
      "Task finished. Total time needed (in seconds): 0.0015039443969726562.\n",
      "reeee\n",
      "Video processing started.\n",
      "Warning: out_dir already exists.\n"
     ]
    },
    {
     "name": "stderr",
     "output_type": "stream",
     "text": [
      "0it [00:00, ?it/s]\n"
     ]
    },
    {
     "name": "stdout",
     "output_type": "stream",
     "text": [
      "Saving segmentation masks in mots txt file.\n",
      "Saving segmentation masks in mots txt file.\n",
      "Task finished. Total time needed (in seconds): 0.0035414695739746094.\n",
      "reeee\n",
      "Video processing started.\n",
      "Warning: out_dir already exists.\n"
     ]
    },
    {
     "name": "stderr",
     "output_type": "stream",
     "text": [
      "0it [00:00, ?it/s]\n"
     ]
    },
    {
     "name": "stdout",
     "output_type": "stream",
     "text": [
      "Saving segmentation masks in mots txt file.\n",
      "Saving segmentation masks in mots txt file.\n",
      "Task finished. Total time needed (in seconds): 0.0019757747650146484.\n",
      "reeee\n",
      "Video processing started.\n",
      "Warning: out_dir already exists.\n"
     ]
    },
    {
     "name": "stderr",
     "output_type": "stream",
     "text": [
      "0it [00:00, ?it/s]\n"
     ]
    },
    {
     "name": "stdout",
     "output_type": "stream",
     "text": [
      "Saving segmentation masks in mots txt file.\n",
      "Saving segmentation masks in mots txt file.\n",
      "Task finished. Total time needed (in seconds): 0.0014865398406982422.\n",
      "reeee\n",
      "Video processing started.\n",
      "Warning: out_dir already exists.\n"
     ]
    },
    {
     "name": "stderr",
     "output_type": "stream",
     "text": [
      "0it [00:00, ?it/s]\n"
     ]
    },
    {
     "name": "stdout",
     "output_type": "stream",
     "text": [
      "Saving segmentation masks in mots txt file.\n",
      "Saving segmentation masks in mots txt file.\n",
      "Task finished. Total time needed (in seconds): 0.0012521743774414062.\n",
      "reeee\n",
      "Video processing started.\n",
      "Warning: out_dir already exists.\n"
     ]
    },
    {
     "name": "stderr",
     "output_type": "stream",
     "text": [
      "0it [00:00, ?it/s]\n"
     ]
    },
    {
     "name": "stdout",
     "output_type": "stream",
     "text": [
      "Saving segmentation masks in mots txt file.\n",
      "Saving segmentation masks in mots txt file.\n",
      "Task finished. Total time needed (in seconds): 0.0011854171752929688.\n",
      "reeee\n",
      "Video processing started.\n",
      "Warning: out_dir already exists.\n"
     ]
    },
    {
     "name": "stderr",
     "output_type": "stream",
     "text": [
      "0it [00:00, ?it/s]\n"
     ]
    },
    {
     "name": "stdout",
     "output_type": "stream",
     "text": [
      "Saving segmentation masks in mots txt file.\n",
      "Saving segmentation masks in mots txt file.\n",
      "Task finished. Total time needed (in seconds): 0.0013957023620605469.\n",
      "reeee\n",
      "Video processing started.\n",
      "Warning: out_dir already exists.\n"
     ]
    },
    {
     "name": "stderr",
     "output_type": "stream",
     "text": [
      "0it [00:00, ?it/s]\n"
     ]
    },
    {
     "name": "stdout",
     "output_type": "stream",
     "text": [
      "Saving segmentation masks in mots txt file.\n",
      "Saving segmentation masks in mots txt file.\n",
      "Task finished. Total time needed (in seconds): 0.0012750625610351562.\n",
      "reeee\n",
      "Video processing started.\n",
      "Warning: out_dir already exists.\n"
     ]
    },
    {
     "name": "stderr",
     "output_type": "stream",
     "text": [
      "0it [00:00, ?it/s]"
     ]
    },
    {
     "name": "stdout",
     "output_type": "stream",
     "text": [
      "Saving segmentation masks in mots txt file.\n",
      "Saving segmentation masks in mots txt file.\n",
      "Task finished. Total time needed (in seconds): 0.0012977123260498047.\n"
     ]
    },
    {
     "name": "stderr",
     "output_type": "stream",
     "text": [
      "\n"
     ]
    }
   ],
   "source": [
    "\n",
    "gen_prediction_files(eval_dataset, \n",
    "                     save_dir = 'out_dir', \n",
    "                     distnet_weights = 'weights/distnet_t.pth',\n",
    "                     device = None,\n",
    "                     dist_mode = 'default')"
   ]
  },
  {
   "cell_type": "code",
   "execution_count": null,
   "metadata": {},
   "outputs": [],
   "source": []
  }
 ],
 "metadata": {
  "colab": {
   "provenance": []
  },
  "kernelspec": {
   "display_name": "Python 3 (ipykernel)",
   "language": "python",
   "name": "python3"
  },
  "language_info": {
   "codemirror_mode": {
    "name": "ipython",
    "version": 3
   },
   "file_extension": ".py",
   "mimetype": "text/x-python",
   "name": "python",
   "nbconvert_exporter": "python",
   "pygments_lexer": "ipython3",
   "version": "3.12.7"
  }
 },
 "nbformat": 4,
 "nbformat_minor": 4
}
