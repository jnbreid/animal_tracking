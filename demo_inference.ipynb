{
 "cells": [
  {
   "cell_type": "code",
   "execution_count": 1,
   "metadata": {},
   "outputs": [
    {
     "name": "stdout",
     "output_type": "stream",
     "text": [
      "Imports ready\n"
     ]
    }
   ],
   "source": [
    "import torch\n",
    "import os\n",
    "\n",
    "from src.tracker import infer_video\n",
    "from src.utils_data import read_mp4\n",
    "\n",
    "print(f\"Imports ready\")"
   ]
  },
  {
   "cell_type": "markdown",
   "metadata": {},
   "source": [
    "Loading one of the demo mp4 files from the GMOT40 dataset."
   ]
  },
  {
   "cell_type": "code",
   "execution_count": 2,
   "metadata": {},
   "outputs": [],
   "source": [
    "video_path = \"demo_data/vid1.mp4\" # you can also choose \"demo_data/vid2.mp4\"\n",
    "\n",
    "frames = read_mp4(video_path)"
   ]
  },
  {
   "cell_type": "code",
   "execution_count": 3,
   "metadata": {},
   "outputs": [
    {
     "name": "stdout",
     "output_type": "stream",
     "text": [
      "The video has 105 frames and a resolution of 1920x1012\n"
     ]
    }
   ],
   "source": [
    "print(f\"The video has {len(frames)} frames and a resolution of {frames[0].shape[1]}x{frames[0].shape[0]}\")"
   ]
  },
  {
   "cell_type": "code",
   "execution_count": 4,
   "metadata": {},
   "outputs": [
    {
     "name": "stdout",
     "output_type": "stream",
     "text": [
      "cpu\n"
     ]
    }
   ],
   "source": [
    "DEVICE = torch.device('cuda:0' if torch.cuda.is_available() else 'cpu')\n",
    "print(DEVICE)"
   ]
  },
  {
   "cell_type": "markdown",
   "metadata": {},
   "source": [
    "Starting inference for the video.\n",
    "\n",
    "The generated predictions will be saved in the *out_dir* directory."
   ]
  },
  {
   "cell_type": "code",
   "execution_count": null,
   "metadata": {
    "id": "3hIIXSaT5_SS",
    "scrolled": true
   },
   "outputs": [
    {
     "name": "stdout",
     "output_type": "stream",
     "text": [
      "Video processing started.\n",
      "Warning: out_dir already exists.\n",
      "Loading detection model ...\n"
     ]
    },
    {
     "name": "stderr",
     "output_type": "stream",
     "text": [
      "Fusing layers... \n",
      "Fusing layers... \n",
      "[W321 00:11:37.359435438 NNPACK.cpp:62] Could not initialize NNPACK! Reason: Unsupported hardware.\n",
      "Model summary: 733 layers, 140054656 parameters, 0 gradients, 208.8 GFLOPs\n",
      "Model summary: 733 layers, 140054656 parameters, 0 gradients, 208.8 GFLOPs\n"
     ]
    },
    {
     "name": "stdout",
     "output_type": "stream",
     "text": [
      "Loading feature extraction model ...\n"
     ]
    },
    {
     "name": "stderr",
     "output_type": "stream",
     "text": [
      "Loading pretrained weights from Hugging Face hub (BVRA/MegaDescriptor-T-224)\n",
      "Loading pretrained weights from Hugging Face hub (BVRA/MegaDescriptor-T-224)\n"
     ]
    },
    {
     "name": "stdout",
     "output_type": "stream",
     "text": [
      "Loading segmentation model ...\n",
      "Initializing sam\n",
      "Loading DistNet ...\n"
     ]
    },
    {
     "name": "stderr",
     "output_type": "stream",
     "text": [
      "  2%|▊                                          | 2/105 [01:03<56:00, 32.63s/it]"
     ]
    }
   ],
   "source": [
    "# if model files are not already downloaded this can take a while\n",
    "infer_video(frames,\n",
    "            visualize = True,\n",
    "            box_vis = False,\n",
    "            box_file = True,\n",
    "            seg_file = True,\n",
    "            save_dir = 'out_dir',\n",
    "            distnet_weights = 'weights/distnet_t.pth',\n",
    "            device = DEVICE,\n",
    "            refine = True,\n",
    "            dist_mode = 'default',\n",
    "            fps = 12)"
   ]
  },
  {
   "cell_type": "code",
   "execution_count": null,
   "metadata": {},
   "outputs": [],
   "source": []
  }
 ],
 "metadata": {
  "colab": {
   "provenance": []
  },
  "kernelspec": {
   "display_name": "Python 3 (ipykernel)",
   "language": "python",
   "name": "python3"
  },
  "language_info": {
   "codemirror_mode": {
    "name": "ipython",
    "version": 3
   },
   "file_extension": ".py",
   "mimetype": "text/x-python",
   "name": "python",
   "nbconvert_exporter": "python",
   "pygments_lexer": "ipython3",
   "version": "3.12.7"
  }
 },
 "nbformat": 4,
 "nbformat_minor": 4
}
